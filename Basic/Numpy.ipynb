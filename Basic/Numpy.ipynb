{
  "nbformat": 4,
  "nbformat_minor": 0,
  "metadata": {
    "colab": {
      "provenance": [],
      "authorship_tag": "ABX9TyO+hBYGvpLf7ZTjyxvR2IRX",
      "include_colab_link": true
    },
    "kernelspec": {
      "name": "python3",
      "display_name": "Python 3"
    },
    "language_info": {
      "name": "python"
    }
  },
  "cells": [
    {
      "cell_type": "markdown",
      "metadata": {
        "id": "view-in-github",
        "colab_type": "text"
      },
      "source": [
        "<a href=\"https://colab.research.google.com/github/saadkamal219/Machine_Learning/blob/main/Numpy.ipynb\" target=\"_parent\"><img src=\"https://colab.research.google.com/assets/colab-badge.svg\" alt=\"Open In Colab\"/></a>"
      ]
    },
    {
      "cell_type": "code",
      "execution_count": null,
      "metadata": {
        "colab": {
          "base_uri": "https://localhost:8080/"
        },
        "id": "pAReCGvW6Yf9",
        "outputId": "f2a5a24b-f2fd-4297-d76b-976e93835c72"
      },
      "outputs": [
        {
          "output_type": "stream",
          "name": "stdout",
          "text": [
            "[[1 2 5 6]\n",
            " [3 4 7 8]]\n",
            "\n",
            "\n",
            "[[[1 2]\n",
            "  [3 4]]\n",
            "\n",
            " [[5 6]\n",
            "  [7 8]]]\n",
            "[1 2 3]\n",
            "[4 5 6]\n",
            "[7 8 9]\n",
            "[10 11 12]\n",
            "[ 1  2  3  4  5  6  7  8  9 10 11 12]\n",
            "[12, 11, 10, 9, 8, 7, 6, 5, 4, 3, 2, 1]\n"
          ]
        }
      ],
      "source": [
        "import matplotlib.pyplot as plt\n",
        "import numpy as np\n",
        "\n",
        "arr = np.array([[1,2,3,4], [5,6,7,8], [9,10,11,12]])\n",
        "arr1 = np.array([1,2,3,4,5,6,7,8,9,10,11,12])\n",
        "\n",
        "# xpoints = np.array([1, 10])\n",
        "# ypoints = np.array([1, 20])\n",
        "\n",
        "# print(arr.ndim)\n",
        "\n",
        "# print(arr[0:1, ::-1])\n",
        "\n",
        "# print(arr.dtype)\n",
        "\n",
        "# newarr = arr.astype(bool)\n",
        "\n",
        "# print(newarr)\n",
        "\n",
        "# print(newarr.dtype)\n",
        "\n",
        "# arr1 = arr.copy()\n",
        "\n",
        "# arr[0,1] = 45\n",
        "\n",
        "# print(arr)\n",
        "# print(arr1)\n",
        "\n",
        "# arr2 = arr.view()\n",
        "\n",
        "# arr[0,1] = 55\n",
        "\n",
        "# print(arr)\n",
        "# print(arr2)\n",
        "\n",
        "# print(arr.shape)\n",
        "\n",
        "# arr1 = np.array([1, 2, 3, 4, 5, 6, 7, 8,9,10,11,12])\n",
        "# arr2 = arr1.reshape(2,2,-1)\n",
        "# print(arr2.ndim)\n",
        "# newarr = arr.reshape(-1)\n",
        "# print(arr.ndim)\n",
        "# print(newarr.ndim)\n",
        "\n",
        "# for i in arr:\n",
        "#   for j in i:\n",
        "#     print(j)\n",
        "\n",
        "array = np.array([[1,2], [3,4]])\n",
        "array2 = np.array([[5,6], [7,8]])\n",
        "\n",
        "array3 = np.concatenate((array, array2), axis = 1)\n",
        "print(array3)\n",
        "\n",
        "print(\"\\n\")\n",
        "\n",
        "array4 = np.stack((array, array2), axis = 0)\n",
        "print(array4)\n",
        "\n",
        "array = np.array_split(arr1,4)\n",
        "print(array[0])\n",
        "print(array[1])\n",
        "print(array[2])\n",
        "print(array[3])\n",
        "# print(array[4])\n",
        "\n",
        "print(np.sort(arr1))\n",
        "\n",
        "new_arr = sorted(arr1, reverse=True)\n",
        "print(new_arr)"
      ]
    },
    {
      "cell_type": "code",
      "source": [],
      "metadata": {
        "id": "YVy4c_jIMOZ7"
      },
      "execution_count": null,
      "outputs": []
    }
  ]
}